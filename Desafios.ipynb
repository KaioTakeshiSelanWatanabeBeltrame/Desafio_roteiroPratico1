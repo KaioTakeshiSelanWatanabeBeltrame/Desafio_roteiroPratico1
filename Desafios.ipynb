{
  "nbformat": 4,
  "nbformat_minor": 0,
  "metadata": {
    "colab": {
      "provenance": [],
      "authorship_tag": "ABX9TyO9KUVC8RWoYpJHDSTeDz4J",
      "include_colab_link": true
    },
    "kernelspec": {
      "name": "python3",
      "display_name": "Python 3"
    },
    "language_info": {
      "name": "python"
    }
  },
  "cells": [
    {
      "cell_type": "markdown",
      "metadata": {
        "id": "view-in-github",
        "colab_type": "text"
      },
      "source": [
        "<a href=\"https://colab.research.google.com/github/KaioTakeshiSelanWatanabeBeltrame/Desafio_roteiroPratico1/blob/main/Desafios.ipynb\" target=\"_parent\"><img src=\"https://colab.research.google.com/assets/colab-badge.svg\" alt=\"Open In Colab\"/></a>"
      ]
    },
    {
      "cell_type": "markdown",
      "source": [
        "###DESAFIO 1"
      ],
      "metadata": {
        "id": "FLrhj_ZgHq88"
      }
    },
    {
      "cell_type": "code",
      "execution_count": 1,
      "metadata": {
        "colab": {
          "base_uri": "https://localhost:8080/"
        },
        "id": "mrRSq4KmHmSB",
        "outputId": "774795ac-8dd2-466b-89e7-e69122dc0e65"
      },
      "outputs": [
        {
          "output_type": "stream",
          "name": "stdout",
          "text": [
            "Olá meu nome é Kaio. Eu tenho 20 anos e moro em Santo André.\n"
          ]
        }
      ],
      "source": [
        "nome = \"Kaio\"\n",
        "idade = 20\n",
        "cidade = \"Santo André\"\n",
        "\n",
        "print(f\"Olá meu nome é {nome}. Eu tenho {idade} anos e moro em {cidade}.\")"
      ]
    },
    {
      "cell_type": "markdown",
      "source": [
        "###DESAFIO 2"
      ],
      "metadata": {
        "id": "Jhq8ddvuHzRK"
      }
    },
    {
      "cell_type": "code",
      "source": [
        "numeros = [10, 20, 30, 40, 50]\n",
        "\n",
        "media = sum(numeros) / len(numeros)\n",
        "print(\"A média é: \", media)"
      ],
      "metadata": {
        "colab": {
          "base_uri": "https://localhost:8080/"
        },
        "id": "i0PSkTQ8H3Zi",
        "outputId": "f7dc1a13-cce4-41a2-f06c-3668da08abbb"
      },
      "execution_count": 2,
      "outputs": [
        {
          "output_type": "stream",
          "name": "stdout",
          "text": [
            "A média é:  30.0\n"
          ]
        }
      ]
    },
    {
      "cell_type": "markdown",
      "source": [
        "### DESAFIO 3"
      ],
      "metadata": {
        "id": "qAOvfGzdH6aC"
      }
    },
    {
      "cell_type": "code",
      "source": [
        "gastos_joao = [300, 500, 200, 800]\n",
        "gastos_pedro = [200, 400, 500, 700]\n",
        "\n",
        "total_joao = sum(gastos_joao)\n",
        "total_pedro = sum(gastos_pedro)\n",
        "\n",
        "if total_joao > total_pedro:\n",
        "    print(\"João gastou mais dinheiro ao longo do mês.\")\n",
        "elif total_pedro > total_joao:\n",
        "    print(\"Pedro gastou mais dinheiro ao longo do mês.\")\n",
        "else:\n",
        "    print(\"João e Pedro gastaram a mesma quantidade de dinheiro ao longo do mês.\")"
      ],
      "metadata": {
        "colab": {
          "base_uri": "https://localhost:8080/"
        },
        "id": "FBvJqcyaH8sC",
        "outputId": "045bd2e5-c155-4b40-e5b4-7e1982076fa0"
      },
      "execution_count": 3,
      "outputs": [
        {
          "output_type": "stream",
          "name": "stdout",
          "text": [
            "João e Pedro gastaram a mesma quantidade de dinheiro ao longo do mês.\n"
          ]
        }
      ]
    }
  ]
}